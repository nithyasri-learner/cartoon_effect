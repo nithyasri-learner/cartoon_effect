{
 "cells": [
  {
   "cell_type": "code",
   "execution_count": 15,
   "metadata": {},
   "outputs": [],
   "source": [
    "import cv2\n",
    "import sys\n",
    "\n",
    "num_down = 2      \n",
    "num_bilateral = 7  \n",
    "img_rgb = cv2.imread(\"C://Users//user//Pictures//Saved Pictures//79065_5.jpg\")\n",
    "\n",
    "#applying bilateral filter\n",
    "img_color = img_rgb\n",
    "for i in range(num_down):\n",
    "    img_color = cv2.pyrDown(img_color)\n",
    "\n",
    "for i in range(num_bilateral):\n",
    "    img_color = cv2.bilateralFilter(img_color, d=9, sigmaColor=9, sigmaSpace=7)\n",
    "                                                                       \n",
    "for i in range(num_down):\n",
    "    img_color = cv2.pyrUp(img_color)\n",
    "\n",
    "#converting an image to grayscale\n",
    "img_gray = cv2.cvtColor(img_rgb, cv2.COLOR_RGB2GRAY)\n",
    "img_blur = cv2.medianBlur(img_gray, 7)\n",
    "\n",
    "#applying adaptive thresholding to sharpen tha edges\n",
    "img_edge = cv2.adaptiveThreshold(img_blur, 255,cv2.ADAPTIVE_THRESH_MEAN_C,cv2.THRESH_BINARY,blockSize=9,C=2)\n",
    "\n",
    "#merging the bilateral filter applied image and adaptive threshold image....\n",
    "img_edge = cv2.cvtColor(img_edge, cv2.COLOR_GRAY2RGB)\n",
    "img_cartoon = cv2.bitwise_and(img_color, img_edge)\n",
    "\n",
    "#displaying the resultant cartoon image\n",
    "cv2.imshow(\"cartoon\", img_cartoon)\n",
    "cv2.waitKey(0)\n",
    "cv2.destroyAllWindows()\n"
   ]
  },
  {
   "cell_type": "code",
   "execution_count": null,
   "metadata": {},
   "outputs": [],
   "source": []
  },
  {
   "cell_type": "code",
   "execution_count": null,
   "metadata": {},
   "outputs": [],
   "source": []
  }
 ],
 "metadata": {
  "kernelspec": {
   "display_name": "Python 3",
   "language": "python",
   "name": "python3"
  },
  "language_info": {
   "codemirror_mode": {
    "name": "ipython",
    "version": 3
   },
   "file_extension": ".py",
   "mimetype": "text/x-python",
   "name": "python",
   "nbconvert_exporter": "python",
   "pygments_lexer": "ipython3",
   "version": "3.7.6"
  }
 },
 "nbformat": 4,
 "nbformat_minor": 4
}
